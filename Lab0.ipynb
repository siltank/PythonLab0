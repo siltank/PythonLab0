{
 "cells": [
  {
   "cell_type": "code",
   "execution_count": 4,
   "id": "db6d7c29-b8e1-4903-92c9-d2c8ee8ef3a9",
   "metadata": {},
   "outputs": [
    {
     "name": "stdout",
     "output_type": "stream",
     "text": [
      "10\n"
     ]
    }
   ],
   "source": [
    "N = ord(\"O\") % 10 + 1\n",
    "print(N)\n"
   ]
  },
  {
   "cell_type": "markdown",
   "id": "6273df62-9ac4-4b1b-bef6-38b9ae4e45a8",
   "metadata": {},
   "source": [
    "# Норвегія: Країна фіордів і вікінгів\n",
    "\n",
    "## Загальна інформація\n",
    "<div style=\"border: 2px solid black; padding: 10px;\">\n",
    "* **Площа:** <span style=\"color: blue;\">385 199 км²</span>\n",
    "* **Населення:** <span style=\"color: green;\">близько 5,5 мільйонів осіб</span>\n",
    "* **Столиця:** Осло\n",
    "* **Державний устрій:** Конституційна монархія\n",
    "</div>\n",
    "\n",
    "## Природа\n",
    "Норвегія славиться своїми мальовничими фіордами, гірськими пейзажами та архіпелагами.\n",
    "\n",
    "### Фіорди\n",
    "Фіорди - це вузькі морські затоки з крутими скелястими берегами, утворені льодовиками. Найвідоміші фіорди Норвегії:\n",
    "* **Согне-фіорд:** Найдовший і найглибший фіорд у світі.\n",
    "* **Гейрангер-фіорд:** Внесений до списку Всесвітньої спадщини ЮНЕСКО.\n",
    "\n",
    "![Фіорди Норвегії](https://nordictravel.ua/image/cache/data/blog/norway/beautiful_fjords%20_norway/Geirangerfjord1-951x635.jpg)\n",
    "\n",
    "## Культура\n",
    "### Вікінги\n",
    "Вікінги - це скандинавські мореплавці, торговці та завойовники, які жили в епоху вікінгів (VIII-XI століття).\n",
    "\n",
    "### Мова\n",
    "Офіційна мова Норвегії - норвезька.\n",
    "\n",
    "## Видатні особистості\n",
    "| Ім'я             | Опис                                         |\n",
    "|------------------|----------------------------------------------|\n",
    "| **Едвард Мунк**  | Видатний художник, автор картини \"Крик\"      |\n",
    "| **Тор Хейєрдал** | Путівник і дослідник, відомий своїми експедиціями |\n",
    "\n",
    "## Пам'ятки\n",
    "* **Оперний театр в Осло:** Сучасна будівля у формі айсберга.\n",
    "\n",
    "### Пам'ятки природи:\n",
    "* **Фіорди**\n",
    "  * Согне-фіорд\n",
    "  * Гейрангер-фіорд\n",
    "\n",
    "## Корисні посилання\n",
    "* **Офіційний туристичний сайт Норвегії:** [Visit Norway](https://www.visitnorway.com)\n",
    "* **Вікіпедія: Норвегія:** [Wikipedia: Норвегія](https://uk.wikipedia.org/wiki/Норвегія)\n",
    "\n",
    "\n",
    "## Флаг Норвегii\n",
    "<img src=\"flag_of_norway.svg\" alt=\"Флаг Норвегии\">\n"
   ]
  },
  {
   "cell_type": "code",
   "execution_count": 13,
   "id": "fc08e7d7-41da-4134-987d-6ae7388828db",
   "metadata": {},
   "outputs": [
    {
     "name": "stdout",
     "output_type": "stream",
     "text": [
      "3^2 + 6^2 = 45\n",
      "Число 21 не можна представити квадратами цілих чисел\n"
     ]
    }
   ],
   "source": [
    "import math\n",
    "\n",
    "def task_10(N):\n",
    "    for a in range(1, int(math.isqrt(N)) + 1):\n",
    "        b_square = N - a**2\n",
    "        b = int(math.sqrt(b_square))\n",
    "        if b**2 == b_square:\n",
    "            return f\"{a}^2 + {b}^2 = {N}\"\n",
    "    return f\"Число {N} не можна представити квадратами цілих чисел\"\n",
    "\n",
    "# Тестові приклади\n",
    "print(task_10(45))  # 3^2 + 6^2 = 45\n",
    "print(task_10(21))  # Число 21 не можна представити квадратами цілих чисел\n"
   ]
  },
  {
   "cell_type": "code",
   "execution_count": null,
   "id": "7b1f6481-8d4f-4aa8-8616-8cd69daf2f3c",
   "metadata": {},
   "outputs": [],
   "source": []
  }
 ],
 "metadata": {
  "kernelspec": {
   "display_name": "Python 3 (ipykernel)",
   "language": "python",
   "name": "python3"
  },
  "language_info": {
   "codemirror_mode": {
    "name": "ipython",
    "version": 3
   },
   "file_extension": ".py",
   "mimetype": "text/x-python",
   "name": "python",
   "nbconvert_exporter": "python",
   "pygments_lexer": "ipython3",
   "version": "3.12.4"
  }
 },
 "nbformat": 4,
 "nbformat_minor": 5
}
